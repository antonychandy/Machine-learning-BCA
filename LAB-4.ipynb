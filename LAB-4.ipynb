{
 "cells": [
  {
   "cell_type": "code",
   "execution_count": null,
   "metadata": {},
   "outputs": [],
   "source": [
    "import pandas as pd\n",
    "import numpy as np\n",
    "from sklearn.model_selection import train_test_split, cross_val_score\n",
    "from sklearn.naive_bayes import GaussianNB, MultinomialNB\n",
    "from sklearn.metrics import accuracy_score, confusion_matrix, classification_report, roc_curve, auc\n",
    "import matplotlib.pyplot as plt\n",
    "import seaborn as sns\n",
    "\n",
    "# Load your dataset\n",
    "df = pd.read_csv('diabetes.csv')  # Replace with your dataset"
   ]
  },
  {
   "cell_type": "code",
   "execution_count": null,
   "metadata": {},
   "outputs": [],
   "source": [
    "# 1. Detailed Exploratory Data Analysis (EDA)\n",
    "print(\"\\nDataset Overview:\")\n",
    "print(df.head())\n",
    "\n",
    "print(\"\\nData Types:\")\n",
    "print(df.info())\n",
    "\n",
    "print(\"\\nMissing Values:\")\n",
    "print(df.isnull().sum())\n",
    "\n",
    "print(\"\\nDescriptive Statistics:\")\n",
    "print(df.describe())\n",
    "\n",
    "# Visualizations\n",
    "sns.pairplot(df, hue='target')  # Replace 'target' with your actual target variable name\n",
    "plt.show()\n",
    "\n",
    "# Correlation Heatmap\n",
    "plt.figure(figsize=(10, 8))\n",
    "sns.heatmap(df.corr(), annot=True, cmap='coolwarm')\n",
    "plt.title(\"Correlation Heatmap\")\n",
    "plt.show()"
   ]
  },
  {
   "cell_type": "code",
   "execution_count": null,
   "metadata": {},
   "outputs": [],
   "source": [
    "# 2. Data Preprocessing\n",
    "# Assuming the target column is named 'target'\n",
    "X = df.drop(columns=['target'])  # Replace 'target' with your actual target column name\n",
    "y = df['target']\n",
    "\n",
    "# Split the data into train and test sets\n",
    "X_train, X_test, y_train, y_test = train_test_split(X, y, test_size=0.2, random_state=42)"
   ]
  },
  {
   "cell_type": "code",
   "execution_count": null,
   "metadata": {},
   "outputs": [],
   "source": [
    "# 3. Train Gaussian Naive Bayes Classifier\n",
    "gnb = GaussianNB()\n",
    "gnb.fit(X_train, y_train)\n",
    "y_pred_gnb = gnb.predict(X_test)"
   ]
  },
  {
   "cell_type": "code",
   "execution_count": null,
   "metadata": {},
   "outputs": [],
   "source": [
    "# 4. Train Multinomial Naive Bayes Classifier\n",
    "# MultinomialNB works better with non-negative integer features (e.g., count data)\n",
    "mnb = MultinomialNB()\n",
    "mnb.fit(X_train, y_train)\n",
    "y_pred_mnb = mnb.predict(X_test)"
   ]
  },
  {
   "cell_type": "code",
   "execution_count": null,
   "metadata": {},
   "outputs": [],
   "source": [
    "# 5. Check Accuracy Scores\n",
    "gnb_accuracy = accuracy_score(y_test, y_pred_gnb)\n",
    "mnb_accuracy = accuracy_score(y_test, y_pred_mnb)\n",
    "\n",
    "print(\"\\nGaussian Naive Bayes Accuracy:\", gnb_accuracy)\n",
    "print(\"Multinomial Naive Bayes Accuracy:\", mnb_accuracy)"
   ]
  },
  {
   "cell_type": "code",
   "execution_count": null,
   "metadata": {},
   "outputs": [],
   "source": [
    "# 6. Confusion Matrix with Cross-Validation\n",
    "cv_scores_gnb = cross_val_score(gnb, X, y, cv=5, scoring='accuracy')\n",
    "cv_scores_mnb = cross_val_score(mnb, X, y, cv=5, scoring='accuracy')\n",
    "\n",
    "print(\"\\nGaussian NB Cross-Validation Accuracy:\", cv_scores_gnb.mean())\n",
    "print(\"Multinomial NB Cross-Validation Accuracy:\", cv_scores_mnb.mean())\n",
    "\n",
    "# Confusion Matrix for Gaussian NB\n",
    "cm_gnb = confusion_matrix(y_test, y_pred_gnb)\n",
    "sns.heatmap(cm_gnb, annot=True, fmt='d', cmap='Blues')\n",
    "plt.title(\"Gaussian NB Confusion Matrix\")\n",
    "plt.show()\n",
    "\n",
    "# Confusion Matrix for Multinomial NB\n",
    "cm_mnb = confusion_matrix(y_test, y_pred_mnb)\n",
    "sns.heatmap(cm_mnb, annot=True, fmt='d', cmap='Greens')\n",
    "plt.title(\"Multinomial NB Confusion Matrix\")\n",
    "plt.show()"
   ]
  },
  {
   "cell_type": "code",
   "execution_count": null,
   "metadata": {},
   "outputs": [],
   "source": [
    "# 7. ROC and AUC for Gaussian NB (Binary classification only)\n",
    "if len(np.unique(y)) == 2:\n",
    "    y_prob_gnb = gnb.predict_proba(X_test)[:, 1]\n",
    "    fpr_gnb, tpr_gnb, _ = roc_curve(y_test, y_prob_gnb)\n",
    "    roc_auc_gnb = auc(fpr_gnb, tpr_gnb)\n",
    "\n",
    "    plt.figure()\n",
    "    plt.plot(fpr_gnb, tpr_gnb, color='blue', label=f'Gaussian NB ROC (AUC = {roc_auc_gnb:.2f})')\n",
    "    plt.plot([0, 1], [0, 1], color='gray', linestyle='--')\n",
    "    plt.xlabel(\"False Positive Rate\")\n",
    "    plt.ylabel(\"True Positive Rate\")\n",
    "    plt.title(\"ROC Curve\")\n",
    "    plt.legend()\n",
    "    plt.show()"
   ]
  },
  {
   "cell_type": "code",
   "execution_count": null,
   "metadata": {},
   "outputs": [],
   "source": [
    "# 8. Interpretation\n",
    "print(\"\\nClassification Report for Gaussian NB:\")\n",
    "print(classification_report(y_test, y_pred_gnb))\n",
    "\n",
    "print(\"Classification Report for Multinomial NB:\")\n",
    "print(classification_report(y_test, y_pred_mnb))\n",
    "\n",
    "print(\"\\nSummary:\")\n",
    "print(\"Gaussian NB performed better on continuous data features, while Multinomial NB is more suitable for categorical or count data. Evaluate based on accuracy, confusion matrix, and ROC to choose the best model.\")\n"
   ]
  }
 ],
 "metadata": {
  "kernelspec": {
   "display_name": "Python 3",
   "language": "python",
   "name": "python3"
  },
  "language_info": {
   "name": "python",
   "version": "3.12.8"
  }
 },
 "nbformat": 4,
 "nbformat_minor": 2
}
