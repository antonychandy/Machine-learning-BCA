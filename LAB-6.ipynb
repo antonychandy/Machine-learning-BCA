{
 "cells": [
  {
   "cell_type": "code",
   "execution_count": null,
   "metadata": {},
   "outputs": [],
   "source": [
    "import pandas as pd\n",
    "import numpy as np\n",
    "import seaborn as sns\n",
    "import matplotlib.pyplot as plt\n",
    "from sklearn.model_selection import train_test_split\n",
    "from sklearn.linear_model import LinearRegression\n",
    "from sklearn.metrics import mean_absolute_error, mean_squared_error, r2_score\n",
    "\n",
    "# Load the dataset\n",
    "data = {\n",
    "}\n",
    "\n",
    "df = pd.DataFrame(data)"
   ]
  },
  {
   "cell_type": "code",
   "execution_count": null,
   "metadata": {},
   "outputs": [],
   "source": [
    "# 1. Check the dependent and independent variables\n",
    "print(\"Dataset Overview:\")\n",
    "print(df.head())\n",
    "\n",
    "# Choosing Glucose as the independent variable and BMI as the dependent variable\n",
    "X = df[['Glucose']]\n",
    "y = df['BMI']\n"
   ]
  },
  {
   "cell_type": "code",
   "execution_count": null,
   "metadata": {},
   "outputs": [],
   "source": [
    "# 2. Visualize the change in variables\n",
    "plt.figure(figsize=(8, 6))\n",
    "sns.scatterplot(x=X['Glucose'], y=y)\n",
    "plt.xlabel(\"Glucose Level\")\n",
    "plt.ylabel(\"BMI\")\n",
    "plt.title(\"Scatter Plot: Glucose vs BMI\")\n",
    "plt.show()\n",
    "\n"
   ]
  },
  {
   "cell_type": "code",
   "execution_count": null,
   "metadata": {},
   "outputs": [],
   "source": [
    "# 3. Split the data into train and test sets\n",
    "X_train, X_test, y_train, y_test = train_test_split(X, y, test_size=0.2, random_state=42)\n",
    "\n"
   ]
  },
  {
   "cell_type": "code",
   "execution_count": null,
   "metadata": {},
   "outputs": [],
   "source": [
    "# 4. Shape of the train and test sets\n",
    "print(\"\\nShape of Training Set:\", X_train.shape)\n",
    "print(\"Shape of Testing Set:\", X_test.shape)"
   ]
  },
  {
   "cell_type": "code",
   "execution_count": null,
   "metadata": {},
   "outputs": [],
   "source": [
    "# 5. Train the Simple Linear Regression model\n",
    "regressor = LinearRegression()\n",
    "regressor.fit(X_train, y_train)"
   ]
  },
  {
   "cell_type": "code",
   "execution_count": null,
   "metadata": {},
   "outputs": [],
   "source": [
    "# 6. Retrieve the intercept and slope\n",
    "intercept = regressor.intercept_\n",
    "slope = regressor.coef_[0]\n",
    "\n",
    "print(\"\\nIntercept:\", intercept)\n",
    "print(\"Slope:\", slope)"
   ]
  },
  {
   "cell_type": "code",
   "execution_count": null,
   "metadata": {},
   "outputs": [],
   "source": [
    "# 7. Make Predictions\n",
    "y_pred = regressor.predict(X_test)"
   ]
  },
  {
   "cell_type": "code",
   "execution_count": null,
   "metadata": {},
   "outputs": [],
   "source": [
    "# 8. Compare Predicted vs Actual values\n",
    "comparison_df = pd.DataFrame({\"Actual\": y_test, \"Predicted\": y_pred})\n",
    "print(\"\\nPredicted vs Actual Values:\")\n",
    "print(comparison_df)"
   ]
  },
  {
   "cell_type": "code",
   "execution_count": null,
   "metadata": {},
   "outputs": [],
   "source": [
    "# 9. Evaluate the Model\n",
    "mae = mean_absolute_error(y_test, y_pred)\n",
    "mse = mean_squared_error(y_test, y_pred)\n",
    "rmse = np.sqrt(mse)\n",
    "r2 = r2_score(y_test, y_pred)\n",
    "\n",
    "print(\"\\nModel Evaluation Metrics:\")\n",
    "print(\"Mean Absolute Error (MAE):\", mae)\n",
    "print(\"Mean Squared Error (MSE):\", mse)\n",
    "print(\"Root Mean Squared Error (RMSE):\", rmse)\n",
    "print(\"R-Squared (R2):\", r2)"
   ]
  },
  {
   "cell_type": "code",
   "execution_count": null,
   "metadata": {},
   "outputs": [],
   "source": [
    "# 10. Visualization of Regression Line\n",
    "plt.figure(figsize=(8, 6))\n",
    "sns.scatterplot(x=X_train['Glucose'], y=y_train, label=\"Train Data\", color='blue')\n",
    "sns.scatterplot(x=X_test['Glucose'], y=y_test, label=\"Test Data\", color='red')\n",
    "plt.plot(X_train, regressor.predict(X_train), color='green', linewidth=2, label='Regression Line')\n",
    "plt.xlabel(\"Glucose Level\")\n",
    "plt.ylabel(\"BMI\")\n",
    "plt.title(\"Simple Linear Regression: Glucose vs BMI\")\n",
    "plt.legend()\n",
    "plt.show()"
   ]
  }
 ],
 "metadata": {
  "kernelspec": {
   "display_name": "Python 3",
   "language": "python",
   "name": "python3"
  },
  "language_info": {
   "name": "python",
   "version": "3.12.8"
  }
 },
 "nbformat": 4,
 "nbformat_minor": 2
}
